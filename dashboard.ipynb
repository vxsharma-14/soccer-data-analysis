{
 "cells": [
  {
   "cell_type": "code",
   "execution_count": 1,
   "id": "f5c347c5-3696-40a7-8b6d-477e7bfe6eae",
   "metadata": {},
   "outputs": [],
   "source": [
    "import ipywidgets as widgets\n",
    "import matplotlib.pyplot as plt\n",
    "import pandas as pd\n",
    "import seaborn as sns\n",
    "import numpy as np\n",
    "from IPython.display import clear_output, display"
   ]
  },
  {
   "cell_type": "code",
   "execution_count": 2,
   "id": "1f20de46-3770-4117-9a93-56827f48decb",
   "metadata": {},
   "outputs": [],
   "source": [
    "%matplotlib inline"
   ]
  },
  {
   "cell_type": "code",
   "execution_count": 3,
   "id": "0c95a069-715a-4624-a3d4-aa8cf8b8b665",
   "metadata": {},
   "outputs": [],
   "source": [
    "df_data = pd.read_csv(\"full-stats.csv\")"
   ]
  },
  {
   "cell_type": "code",
   "execution_count": 4,
   "id": "11683073-885a-4fab-a8d7-3ab36986eb78",
   "metadata": {},
   "outputs": [],
   "source": [
    "df_data['home_diff'] = df_data['home_actual'] - df_data['home_expected']"
   ]
  },
  {
   "cell_type": "code",
   "execution_count": 5,
   "id": "3a6f0a28-6845-407c-89a3-579f24596e0e",
   "metadata": {},
   "outputs": [],
   "source": [
    "# Get the unique country and league names\n",
    "unique_countries = df_data['country'].unique()"
   ]
  },
  {
   "cell_type": "markdown",
   "id": "b9d89d19-992e-4f1a-924d-c31252883cf8",
   "metadata": {},
   "source": [
    "# Analysis of the Home Team Wins and Losses/Draws counts vs Win Odds data for specific (user input) Home Difference range"
   ]
  },
  {
   "cell_type": "code",
   "execution_count": 6,
   "id": "dc70bb0e-cd96-47de-adf9-cb7adff074da",
   "metadata": {},
   "outputs": [],
   "source": [
    "max_home_diff = df_data['home_diff'].max()\n",
    "min_home_diff = df_data['home_diff'].min()\n",
    "max_home_odds = df_data['home_odds'].max()\n",
    "min_home_odds = df_data['home_odds'].min()"
   ]
  },
  {
   "cell_type": "code",
   "execution_count": 7,
   "id": "6e1c9f31-7c9b-4c6c-809d-2c05c80d4d22",
   "metadata": {},
   "outputs": [
    {
     "data": {
      "application/vnd.jupyter.widget-view+json": {
       "model_id": "fc828e6eb6c64ebcb5b294743c5e0685",
       "version_major": 2,
       "version_minor": 0
      },
      "text/plain": [
       "interactive(children=(FloatRangeSlider(value=(-77.0, 84.0), description='Home Difference %', max=84.0, min=-77…"
      ]
     },
     "metadata": {},
     "output_type": "display_data"
    }
   ],
   "source": [
    "# Define the win_odds ranges\n",
    "home_odds_ranges = [(1, 1.8), (1.8, 2.05), (2.05, 2.5), (2.5, 3), (3, 4), (4, 5)]\n",
    "\n",
    "# Create the sliders\n",
    "home_diff_slider = widgets.FloatRangeSlider(value=[min_home_diff, max_home_diff],\n",
    "                                          min=min_home_diff, max=max_home_diff, step=0.1, description='Home Difference %')\n",
    "#home_odds_slider = widgets.FloatRangeSlider(value=[min_home_odds, max_home_odds,],\n",
    "#                                            min=min_home_odds, max=max_home_odds, step=0.1, description='Home Odds')\n",
    "\n",
    "\n",
    "# Define the update function\n",
    "def update_chart(home_diff_range):\n",
    "\n",
    "    # Initialize lists to store counts of wins and losses/draws for each range\n",
    "    wins_counts = []\n",
    "    losses_draws_counts = []\n",
    "    match_count = 0\n",
    "\n",
    "    # Iterate over the win_odds ranges\n",
    "    for home_odds_range in home_odds_ranges:\n",
    "        # Filter the data based on the win_odds range and home_diff threshold\n",
    "        filtered_data = df_data[(df_data['home_diff'] >= home_diff_range[0]) &\n",
    "                                               (df_data['home_diff'] <= home_diff_range[1]) &\n",
    "                                               (df_data['home_odds'] >= home_odds_range[0]) &\n",
    "                                               (df_data['home_odds'] <= home_odds_range[1])]\n",
    "\n",
    "        # Calculate the counts of wins and losses/draws\n",
    "        wins_count = filtered_data[filtered_data['home_team_win'] == 1]['home_team_win'].count()\n",
    "        losses_draws_count = filtered_data[filtered_data['home_team_win'] == 0]['home_team_win'].count()\n",
    "    \n",
    "        # Append the counts to the respective lists\n",
    "        wins_counts.append(wins_count)\n",
    "        losses_draws_counts.append(losses_draws_count)\n",
    "        match_count = match_count + wins_count + losses_draws_count\n",
    "\n",
    "    # Plot the stacked bar chart for the current threshold\n",
    "    plt.bar(range(len(home_odds_ranges)), wins_counts, label='Wins', alpha=0.7)\n",
    "    plt.bar(range(len(home_odds_ranges)), losses_draws_counts, bottom=wins_counts, label='Losses/Draws', alpha=0.7)\n",
    "\n",
    "    # Display the counts within the stacked bar\n",
    "    for j, (wins, losses_draws) in enumerate(zip(wins_counts, losses_draws_counts)):\n",
    "        plt.text(j, wins / 2, str(wins), ha='center', va='center')\n",
    "        plt.text(j, wins + losses_draws / 2, str(losses_draws), ha='center', va='center')\n",
    "    plt.xlabel('Win Odds Range')\n",
    "    plt.xticks(range(len(home_odds_ranges)), [f'{home_odds_range[0]}-{home_odds_range[1]}' for home_odds_range in home_odds_ranges])\n",
    "    plt.ylabel('Counts')\n",
    "    plt.title(f'Counts of Wins and Losses/Draws\\nTotal Matches: {match_count}')\n",
    "    plt.legend()\n",
    "    plt.show()\n",
    "\n",
    "# Create the interactive widget\n",
    "interactive_widget = widgets.interactive(update_chart, home_diff_range=home_diff_slider)\n",
    "\n",
    "# Display the widget\n",
    "display(interactive_widget)"
   ]
  },
  {
   "cell_type": "markdown",
   "id": "e3d0e207-2a39-449b-84b8-c43a248797e3",
   "metadata": {},
   "source": [
    "# Analysis of the Home Team Wins and Losses/Draws counts vs Home Actual Percentage data (> 60%, 70%, 75% and 80%) when Home Odds in the range 1.80 and 2.05 and Home Avg Rating > Away Avg Rating"
   ]
  },
  {
   "cell_type": "code",
   "execution_count": 8,
   "id": "b8568086-11e5-4d53-85ad-5c309b63f6b8",
   "metadata": {},
   "outputs": [
    {
     "data": {
      "application/vnd.jupyter.widget-view+json": {
       "model_id": "f37ba1eac8e946f2a363047025610e29",
       "version_major": 2,
       "version_minor": 0
      },
      "text/plain": [
       "HBox(children=(SelectMultiple(description='Countries:', options=('All', 'England', 'Spain', 'Turkey', 'Germany…"
      ]
     },
     "metadata": {},
     "output_type": "display_data"
    },
    {
     "data": {
      "application/vnd.jupyter.widget-view+json": {
       "model_id": "62f155c3f88b48fdb2f0a3c5352e9aaa",
       "version_major": 2,
       "version_minor": 0
      },
      "text/plain": [
       "Button(description='Apply', style=ButtonStyle())"
      ]
     },
     "metadata": {},
     "output_type": "display_data"
    },
    {
     "data": {
      "application/vnd.jupyter.widget-view+json": {
       "model_id": "ce3575ea5ab8485e9405884e22bbc2e9",
       "version_major": 2,
       "version_minor": 0
      },
      "text/plain": [
       "Output()"
      ]
     },
     "metadata": {},
     "output_type": "display_data"
    }
   ],
   "source": [
    "# Create the country and league selection widgets\n",
    "countries_select1 = widgets.SelectMultiple(options=np.append('All', unique_countries), description='Countries:', rows=5)\n",
    "leagues_select1 = widgets.SelectMultiple(options=[], description='Leagues:', rows=5)\n",
    "apply_button1 = widgets.Button(description='Apply')\n",
    "output1 = widgets.Output()\n",
    "\n",
    "# Define the update leagues function\n",
    "def update_leagues1(*args):\n",
    "    selected_countries = countries_select1.value\n",
    "    if 'All' in selected_countries:\n",
    "        leagues_select1.options = np.append('All', df_data['tour_name'].unique())\n",
    "    else:\n",
    "        leagues_select1.options = np.append('All', df_data[df_data['country'].isin(selected_countries)]['tour_name'].unique())\n",
    "\n",
    "# Register the update leagues function to be called when countries are selected\n",
    "countries_select1.observe(update_leagues1, 'value')\n",
    "\n",
    "# Create the plot function\n",
    "def update_chart1(country, leagues):\n",
    "    if 'All' in country:\n",
    "        filtered_data = df_data.copy()\n",
    "    else:\n",
    "        filtered_data = df_data[df_data['country'].isin(country)]\n",
    "\n",
    "    if 'All' in leagues:\n",
    "        filtered_data = filtered_data.copy()\n",
    "    else:\n",
    "        filtered_data = filtered_data[filtered_data['tour_name'].isin(leagues)]\n",
    "\n",
    "    # Define the win_odds ranges\n",
    "    win_odds_range = (1.8, 2.05)\n",
    "    \n",
    "    # Define the home_actual threshold values\n",
    "    home_actual_thresholds = [(60, 70), (70, 75), (75, 80), (80, 100)]\n",
    "\n",
    "    wins_counts = []\n",
    "    losses_draws_counts = []\n",
    "    match_count = 0\n",
    "\n",
    "    # Iterate over the home_actual thresholds\n",
    "    for i, home_actual_threshold in enumerate(home_actual_thresholds):\n",
    "    \n",
    "        # Determine the upper limit for the threshold range\n",
    "        if i == len(home_actual_thresholds) - 1:\n",
    "            upper_limit = filtered_data['home_actual'].max()\n",
    "        else:\n",
    "            upper_limit = home_actual_thresholds[i+1]\n",
    "    \n",
    "        # Filter the data based on the win_odds range and home_actual threshold\n",
    "        display_data = filtered_data[(filtered_data['home_odds'] >= win_odds_range[0]) &\n",
    "                                (filtered_data['home_odds'] < win_odds_range[1]) &\n",
    "                                (filtered_data['home_actual'] >= home_actual_threshold[0]) &\n",
    "                                (filtered_data['home_actual'] < home_actual_threshold[1]) &\n",
    "                                (filtered_data['home_avg_rating'] > filtered_data['away_avg_rating'])]\n",
    "    \n",
    "        # Count the number of wins and losses/draws in the filtered data\n",
    "        wins_count = display_data[display_data['home_team_win'] == 1]['home_team_win'].count()\n",
    "        losses_draws_count = display_data[display_data['home_team_win'] == 0]['home_team_win'].count()\n",
    "    \n",
    "        # Append the counts to the respective lists\n",
    "        wins_counts.append(wins_count)\n",
    "        losses_draws_counts.append(losses_draws_count)\n",
    "        match_count = match_count + wins_count + losses_draws_count\n",
    "\n",
    "    # Create a new figure\n",
    "    plt.figure()\n",
    "\n",
    "    # Plot the stacked bar chart for the current threshold\n",
    "    plt.bar(range(len(home_actual_thresholds)), wins_counts, label='Wins', alpha=0.7)\n",
    "    plt.bar(range(len(home_actual_thresholds)), losses_draws_counts, bottom=wins_counts, label='Losses/Draws', alpha=0.7)\n",
    "\n",
    "    # Display the counts within the stacked bar\n",
    "    for j, (wins, losses_draws) in enumerate(zip(wins_counts, losses_draws_counts)):\n",
    "        plt.text(j, wins / 2, str(wins), ha='center', va='center')\n",
    "        plt.text(j, wins + losses_draws / 2, str(losses_draws), ha='center', va='center')\n",
    "\n",
    "    plt.xlabel('Home Actual Threshold')\n",
    "    plt.ylabel('Counts')\n",
    "    plt.title(f'Counts of Wins and Losses/Draws\\nWin Odds Range ({win_odds_range[0]} - {win_odds_range[1]})\\nTotal Matches: {match_count}')\n",
    "    plt.xticks(range(len(home_actual_thresholds)),[f'{home_actual_threshold[0]}% - {home_actual_threshold[1]}%' for home_actual_threshold in home_actual_thresholds])\n",
    "\n",
    "    # Add a legend to the last subplot\n",
    "    plt.legend()\n",
    "    \n",
    "    # Show the plot\n",
    "    plt.show()\n",
    "\n",
    "    # Close the figure to prevent multiple plots from being displayed\n",
    "    plt.close()\n",
    "\n",
    "# Define the apply button click event\n",
    "def apply_button_clicked1(b):\n",
    "    selected_countries = countries_select1.value\n",
    "    selected_leagues = leagues_select1.value\n",
    "    with output1:\n",
    "        clear_output(wait=True)\n",
    "        update_chart1(selected_countries, selected_leagues)\n",
    "\n",
    "# Display the widgets\n",
    "display(widgets.HBox([countries_select1, leagues_select1]),apply_button1, output1)\n",
    "\n",
    "# Register the apply button click event\n",
    "apply_button1.on_click(apply_button_clicked1)"
   ]
  },
  {
   "cell_type": "markdown",
   "id": "8726ea06-8a70-4a9f-a52f-2094ba77e783",
   "metadata": {},
   "source": [
    "# Analysis of the Away Team Wins and Losses/Draws counts vs Away Actual Percentage data (> 60%, 70%, 75% and 80%) when Away Odds in the range 1.80 and 2.05 and Away Avg Rating > Home Avg Rating"
   ]
  },
  {
   "cell_type": "code",
   "execution_count": 15,
   "id": "fc8fe22b-e00b-465b-b797-05da48c438ad",
   "metadata": {},
   "outputs": [
    {
     "data": {
      "application/vnd.jupyter.widget-view+json": {
       "model_id": "872484dad5744085a1129d239643e2de",
       "version_major": 2,
       "version_minor": 0
      },
      "text/plain": [
       "HBox(children=(SelectMultiple(description='Countries:', options=('All', 'England', 'Spain', 'Turkey', 'Germany…"
      ]
     },
     "metadata": {},
     "output_type": "display_data"
    },
    {
     "data": {
      "application/vnd.jupyter.widget-view+json": {
       "model_id": "f55917469d58487dbe17cbde4eb21604",
       "version_major": 2,
       "version_minor": 0
      },
      "text/plain": [
       "Button(description='Apply', style=ButtonStyle())"
      ]
     },
     "metadata": {},
     "output_type": "display_data"
    },
    {
     "data": {
      "application/vnd.jupyter.widget-view+json": {
       "model_id": "f321d9b28e0e4bb2a2cb048db23ad225",
       "version_major": 2,
       "version_minor": 0
      },
      "text/plain": [
       "Output()"
      ]
     },
     "metadata": {},
     "output_type": "display_data"
    }
   ],
   "source": [
    "# Create the country and league selection widgets\n",
    "countries_select2 = widgets.SelectMultiple(options=np.append('All', unique_countries), description='Countries:', rows=5)\n",
    "leagues_select2 = widgets.SelectMultiple(options=[], description='Leagues:', rows=5)\n",
    "apply_button2 = widgets.Button(description='Apply')\n",
    "output2 = widgets.Output()\n",
    "\n",
    "# Define the update leagues function\n",
    "def update_leagues2(*args):\n",
    "    selected_countries = countries_select2.value\n",
    "    if 'All' in selected_countries:\n",
    "        leagues_select2.options = np.append('All', df_data['tour_name'].unique())\n",
    "    else:\n",
    "        leagues_select2.options = np.append('All', df_data[df_data['country'].isin(selected_countries)]['tour_name'].unique())\n",
    "\n",
    "# Register the update leagues function to be called when countries are selected\n",
    "countries_select2.observe(update_leagues2, 'value')\n",
    "\n",
    "# Create the plot function\n",
    "def update_chart2(country, leagues):\n",
    "    if 'All' in country:\n",
    "        filtered_data = df_data.copy()\n",
    "    else:\n",
    "        filtered_data = df_data[df_data['country'].isin(country)]\n",
    "\n",
    "    if 'All' in leagues:\n",
    "        filtered_data = filtered_data.copy()\n",
    "    else:\n",
    "        filtered_data = filtered_data[filtered_data['tour_name'].isin(leagues)]\n",
    "\n",
    "    # Define the away_win_odds ranges\n",
    "    win_odds_range = (1.8, 2.05)\n",
    "    \n",
    "    # Define the away_actual threshold values\n",
    "    away_actual_thresholds = [(60, 70), (70, 75), (75, 80), (80, 100)]\n",
    "\n",
    "    wins_counts = []\n",
    "    losses_draws_counts = []\n",
    "    match_count = 0\n",
    "\n",
    "    # Iterate over the away_actual thresholds\n",
    "    for i, away_actual_threshold in enumerate(away_actual_thresholds):\n",
    "\n",
    "        # Filter the data based on the win_odds range and away_actual threshold\n",
    "        display_data = filtered_data[(filtered_data['away_odds'] >= win_odds_range[0]) &\n",
    "                                (filtered_data['away_odds'] < win_odds_range[1]) &\n",
    "                                (filtered_data['away_actual'] >= away_actual_threshold[0]) &\n",
    "                                (filtered_data['away_actual'] < away_actual_threshold[1]) &\n",
    "                                (filtered_data['away_avg_rating'] > filtered_data['home_avg_rating'])]\n",
    "    \n",
    "        # Count the number of wins and losses/draws in the filtered data\n",
    "        wins_count = display_data[display_data['away_team_win'] == 1]['away_team_win'].count()\n",
    "        losses_draws_count = display_data[display_data['away_team_win'] == 0]['away_team_win'].count()\n",
    "    \n",
    "        # Append the counts to the respective lists\n",
    "        wins_counts.append(wins_count)\n",
    "        losses_draws_counts.append(losses_draws_count)\n",
    "        match_count = match_count + wins_count + losses_draws_count\n",
    "\n",
    "    # Create a new figure\n",
    "    plt.figure()\n",
    "\n",
    "    # Plot the stacked bar chart for the current threshold\n",
    "    plt.bar(range(len(away_actual_thresholds)), wins_counts, label='Wins', alpha=0.7)\n",
    "    plt.bar(range(len(away_actual_thresholds)), losses_draws_counts, bottom=wins_counts, label='Losses/Draws', alpha=0.7)\n",
    "\n",
    "    # Display the counts within the stacked bar\n",
    "    for j, (wins, losses_draws) in enumerate(zip(wins_counts, losses_draws_counts)):\n",
    "        plt.text(j, wins / 2, str(wins), ha='center', va='center')\n",
    "        plt.text(j, wins + losses_draws / 2, str(losses_draws), ha='center', va='center')\n",
    "\n",
    "    plt.xlabel('Away Actual Threshold')\n",
    "    plt.ylabel('Counts')\n",
    "    plt.title(f'Counts of Wins and Losses/Draws\\nWin Odds Range ({win_odds_range[0]} - {win_odds_range[1]})\\nTotal Matches: {match_count}')\n",
    "    plt.xticks(range(len(away_actual_thresholds)),[f'{away_actual_threshold[0]}% - {away_actual_threshold[1]}%' for away_actual_threshold in away_actual_thresholds])\n",
    "\n",
    "    # Add a legend to the last subplot\n",
    "    plt.legend()\n",
    "    \n",
    "    # Show the plot\n",
    "    plt.show()\n",
    "\n",
    "    # Close the figure to prevent multiple plots from being displayed\n",
    "    plt.close()\n",
    "\n",
    "# Define the apply button click event\n",
    "def apply_button_clicked2(b):\n",
    "    selected_countries = countries_select2.value\n",
    "    selected_leagues = leagues_select2.value\n",
    "    with output2:\n",
    "        clear_output(wait=True)\n",
    "        update_chart2(selected_countries, selected_leagues)\n",
    "\n",
    "# Display the widgets\n",
    "display(widgets.HBox([countries_select2, leagues_select2]),apply_button2, output2)\n",
    "\n",
    "# Register the apply button click event\n",
    "apply_button2.on_click(apply_button_clicked2)"
   ]
  },
  {
   "cell_type": "markdown",
   "id": "1bd59a73-cf92-45e7-9892-075a1fc7716c",
   "metadata": {},
   "source": [
    "# Analysis of the Home Team Wins and Losses/Draws counts vs Home Actual Percentage data (< 50%, 40%, 30% and 20%) and Home Odds in the range 1.80 and 2.05"
   ]
  },
  {
   "cell_type": "code",
   "execution_count": 10,
   "id": "fb312ed9-38fd-431e-bc3d-191fd2bd360e",
   "metadata": {},
   "outputs": [
    {
     "data": {
      "application/vnd.jupyter.widget-view+json": {
       "model_id": "676e4dd075a0417bb7681dde0e991afe",
       "version_major": 2,
       "version_minor": 0
      },
      "text/plain": [
       "HBox(children=(SelectMultiple(description='Countries:', options=('All', 'England', 'Spain', 'Turkey', 'Germany…"
      ]
     },
     "metadata": {},
     "output_type": "display_data"
    },
    {
     "data": {
      "application/vnd.jupyter.widget-view+json": {
       "model_id": "1311a5d1e8924f3bb17de871c8738461",
       "version_major": 2,
       "version_minor": 0
      },
      "text/plain": [
       "Button(description='Apply', style=ButtonStyle())"
      ]
     },
     "metadata": {},
     "output_type": "display_data"
    },
    {
     "data": {
      "application/vnd.jupyter.widget-view+json": {
       "model_id": "cfb7d9c223fe47cfa7ca4ea47606c317",
       "version_major": 2,
       "version_minor": 0
      },
      "text/plain": [
       "Output()"
      ]
     },
     "metadata": {},
     "output_type": "display_data"
    }
   ],
   "source": [
    "# Create the country and league selection widgets\n",
    "countries_select3 = widgets.SelectMultiple(options=np.append('All', unique_countries), description='Countries:', rows=5)\n",
    "leagues_select3 = widgets.SelectMultiple(options=[], description='Leagues:', rows=5)\n",
    "apply_button3 = widgets.Button(description='Apply')\n",
    "output3 = widgets.Output()\n",
    "\n",
    "# Define the update leagues function\n",
    "def update_leagues3(*args):\n",
    "    selected_countries = countries_select3.value\n",
    "    if 'All' in selected_countries:\n",
    "        leagues_select3.options = np.append('All', df_data['tour_name'].unique())\n",
    "    else:\n",
    "        leagues_select3.options = np.append('All', df_data[df_data['country'].isin(selected_countries)]['tour_name'].unique())\n",
    "\n",
    "# Register the update leagues function to be called when countries are selected\n",
    "countries_select3.observe(update_leagues3, 'value')\n",
    "\n",
    "# Create the plot function\n",
    "def update_chart3(country, leagues):\n",
    "    if 'All' in country:\n",
    "        filtered_data = df_data.copy()\n",
    "    else:\n",
    "        filtered_data = df_data[df_data['country'].isin(country)]\n",
    "\n",
    "    if 'All' in leagues:\n",
    "        filtered_data = filtered_data.copy()\n",
    "    else:\n",
    "        filtered_data = filtered_data[filtered_data['tour_name'].isin(leagues)]\n",
    "\n",
    "    # Define the win_odds ranges\n",
    "    win_odds_range = (1.8, 2.05)\n",
    "    \n",
    "    # Define the home_actual threshold values\n",
    "    home_actual_thresholds = [(0, 20), (20, 30), (30, 40), (40, 50)]\n",
    "\n",
    "    wins_counts = []\n",
    "    losses_draws_counts = []\n",
    "    match_count = 0\n",
    "\n",
    "    # Iterate over the home_actual thresholds\n",
    "    for i, home_actual_threshold in enumerate(home_actual_thresholds):\n",
    "    \n",
    "        # Filter the data based on the win_odds range and home_actual threshold\n",
    "        display_data = filtered_data[(filtered_data['home_odds'] >= win_odds_range[0]) &\n",
    "                                (filtered_data['home_odds'] < win_odds_range[1]) &\n",
    "                                (filtered_data['home_actual'] >= home_actual_threshold[0]) &\n",
    "                                (filtered_data['home_actual'] < home_actual_threshold[1])]\n",
    "    \n",
    "        # Count the number of wins and losses/draws in the filtered data\n",
    "        wins_count = display_data[display_data['home_team_win'] == 1]['home_team_win'].count()\n",
    "        losses_draws_count = display_data[display_data['home_team_win'] == 0]['home_team_win'].count()\n",
    "    \n",
    "        # Append the counts to the respective lists\n",
    "        wins_counts.append(wins_count)\n",
    "        losses_draws_counts.append(losses_draws_count)\n",
    "        match_count = match_count + wins_count + losses_draws_count\n",
    "\n",
    "    # Create a new figure\n",
    "    plt.figure()\n",
    "\n",
    "    # Plot the stacked bar chart for the current threshold\n",
    "    plt.bar(range(len(home_actual_thresholds)), wins_counts, label='Wins', alpha=0.7)\n",
    "    plt.bar(range(len(home_actual_thresholds)), losses_draws_counts, bottom=wins_counts, label='Losses/Draws', alpha=0.7)\n",
    "\n",
    "    # Display the counts within the stacked bar\n",
    "    for j, (wins, losses_draws) in enumerate(zip(wins_counts, losses_draws_counts)):\n",
    "        plt.text(j, wins / 2, str(wins), ha='center', va='center')\n",
    "        plt.text(j, wins + losses_draws / 2, str(losses_draws), ha='center', va='center')\n",
    "\n",
    "    plt.xlabel('Home Actual Threshold')\n",
    "    plt.ylabel('Counts')\n",
    "    plt.title(f'Counts of Wins and Losses/Draws\\nWin Odds Range ({win_odds_range[0]} - {win_odds_range[1]})\\nTotal Matches: {match_count}')\n",
    "    plt.xticks(range(len(home_actual_thresholds)),[f'{home_actual_threshold[0]}% - {home_actual_threshold[1]}%' for home_actual_threshold in home_actual_thresholds])\n",
    "\n",
    "    # Add a legend to the last subplot\n",
    "    plt.legend()\n",
    "    \n",
    "    # Show the plot\n",
    "    plt.show()\n",
    "\n",
    "    # Close the figure to prevent multiple plots from being displayed\n",
    "    plt.close()\n",
    "\n",
    "# Define the apply button click event\n",
    "def apply_button_clicked3(b):\n",
    "    selected_countries = countries_select3.value\n",
    "    selected_leagues = leagues_select3.value\n",
    "    with output3:\n",
    "        clear_output(wait=True)\n",
    "        update_chart3(selected_countries, selected_leagues)\n",
    "\n",
    "# Display the widgets\n",
    "display(widgets.HBox([countries_select3, leagues_select3]),apply_button3, output3)\n",
    "\n",
    "# Register the apply button click event\n",
    "apply_button3.on_click(apply_button_clicked3)"
   ]
  },
  {
   "cell_type": "markdown",
   "id": "8efe44c2-1eff-494b-9c36-6e46e04290c4",
   "metadata": {},
   "source": [
    "# Analysis of the Away Team Wins and Losses/Draws counts vs Away Actual Percentage data (< 50%, 40%, 30% and 20%) when Away Odds in the range 1.80 and 2.05"
   ]
  },
  {
   "cell_type": "code",
   "execution_count": 14,
   "id": "4fbe0821-87a7-4fdf-a78a-a57079e8fe4b",
   "metadata": {},
   "outputs": [
    {
     "data": {
      "application/vnd.jupyter.widget-view+json": {
       "model_id": "9a26c31921674ca28b6fb3c1d79d0b4a",
       "version_major": 2,
       "version_minor": 0
      },
      "text/plain": [
       "HBox(children=(SelectMultiple(description='Countries:', options=('All', 'England', 'Spain', 'Turkey', 'Germany…"
      ]
     },
     "metadata": {},
     "output_type": "display_data"
    },
    {
     "data": {
      "application/vnd.jupyter.widget-view+json": {
       "model_id": "12d0db2e11334995a84e9a9217f1b7ea",
       "version_major": 2,
       "version_minor": 0
      },
      "text/plain": [
       "Button(description='Apply', style=ButtonStyle())"
      ]
     },
     "metadata": {},
     "output_type": "display_data"
    },
    {
     "data": {
      "application/vnd.jupyter.widget-view+json": {
       "model_id": "d3de12d948c94d55817ca1c6f785cfcf",
       "version_major": 2,
       "version_minor": 0
      },
      "text/plain": [
       "Output()"
      ]
     },
     "metadata": {},
     "output_type": "display_data"
    }
   ],
   "source": [
    "# Create the country and league selection widgets\n",
    "countries_select4 = widgets.SelectMultiple(options=np.append('All', unique_countries), description='Countries:', rows=5)\n",
    "leagues_select4 = widgets.SelectMultiple(options=[], description='Leagues:', rows=5)\n",
    "apply_button4 = widgets.Button(description='Apply')\n",
    "output4 = widgets.Output()\n",
    "\n",
    "# Define the update leagues function\n",
    "def update_leagues4(*args):\n",
    "    selected_countries = countries_select4.value\n",
    "    if 'All' in selected_countries:\n",
    "        leagues_select4.options = np.append('All', df_data['tour_name'].unique())\n",
    "    else:\n",
    "        leagues_select4.options = np.append('All', df_data[df_data['country'].isin(selected_countries)]['tour_name'].unique())\n",
    "\n",
    "# Register the update leagues function to be called when countries are selected\n",
    "countries_select4.observe(update_leagues4, 'value')\n",
    "\n",
    "# Create the plot function\n",
    "def update_chart4(country, leagues):\n",
    "    if 'All' in country:\n",
    "        filtered_data = df_data.copy()\n",
    "    else:\n",
    "        filtered_data = df_data[df_data['country'].isin(country)]\n",
    "\n",
    "    if 'All' in leagues:\n",
    "        filtered_data = filtered_data.copy()\n",
    "    else:\n",
    "        filtered_data = filtered_data[filtered_data['tour_name'].isin(leagues)]\n",
    "\n",
    "    # Define the away_win_odds ranges\n",
    "    win_odds_range = (1.8, 2.05)\n",
    "    \n",
    "    # Define the away_actual threshold values\n",
    "    away_actual_thresholds = [(0, 20), (20, 30), (30, 40), (40, 50)]\n",
    "\n",
    "    wins_counts = []\n",
    "    losses_draws_counts = []\n",
    "    match_count = 0\n",
    "\n",
    "    # Iterate over the away_actual thresholds\n",
    "    for i, away_actual_threshold in enumerate(away_actual_thresholds):\n",
    "    \n",
    "        # Filter the data based on the win_odds range and away_actual threshold\n",
    "        display_data = filtered_data[(filtered_data['away_odds'] >= win_odds_range[0]) &\n",
    "                                (filtered_data['away_odds'] < win_odds_range[1]) &\n",
    "                                (filtered_data['away_actual'] >= away_actual_threshold[0]) &\n",
    "                                (filtered_data['away_actual'] < away_actual_threshold[1])]\n",
    "    \n",
    "        # Count the number of wins and losses/draws in the filtered data\n",
    "        wins_count = display_data[display_data['away_team_win'] == 1]['away_team_win'].count()\n",
    "        losses_draws_count = display_data[display_data['away_team_win'] == 0]['away_team_win'].count()\n",
    "    \n",
    "        # Append the counts to the respective lists\n",
    "        wins_counts.append(wins_count)\n",
    "        losses_draws_counts.append(losses_draws_count)\n",
    "        match_count = match_count + wins_count + losses_draws_count\n",
    "\n",
    "    # Create a new figure\n",
    "    plt.figure()\n",
    "\n",
    "    # Plot the stacked bar chart for the current threshold\n",
    "    plt.bar(range(len(away_actual_thresholds)), wins_counts, label='Wins', alpha=0.7)\n",
    "    plt.bar(range(len(away_actual_thresholds)), losses_draws_counts, bottom=wins_counts, label='Losses/Draws', alpha=0.7)\n",
    "\n",
    "    # Display the counts within the stacked bar\n",
    "    for j, (wins, losses_draws) in enumerate(zip(wins_counts, losses_draws_counts)):\n",
    "        plt.text(j, wins / 2, str(wins), ha='center', va='center')\n",
    "        plt.text(j, wins + losses_draws / 2, str(losses_draws), ha='center', va='center')\n",
    "\n",
    "    plt.xlabel('Away Actual Threshold')\n",
    "    plt.ylabel('Counts')\n",
    "    plt.title(f'Counts of Wins and Losses/Draws\\nWin Odds Range ({win_odds_range[0]} - {win_odds_range[1]})\\nTotal Matches: {match_count}')\n",
    "    plt.xticks(range(len(away_actual_thresholds)),[f'{away_actual_threshold[0]}% - {away_actual_threshold[1]}%' for away_actual_threshold in away_actual_thresholds])\n",
    "\n",
    "    # Add a legend to the last subplot\n",
    "    plt.legend()\n",
    "    \n",
    "    # Show the plot\n",
    "    plt.show()\n",
    "\n",
    "    # Close the figure to prevent multiple plots from being displayed\n",
    "    plt.close()\n",
    "\n",
    "# Define the apply button click event\n",
    "def apply_button_clicked4(b):\n",
    "    selected_countries = countries_select4.value\n",
    "    selected_leagues = leagues_select4.value\n",
    "    with output4:\n",
    "        clear_output(wait=True)\n",
    "        update_chart4(selected_countries, selected_leagues)\n",
    "\n",
    "# Display the widgets\n",
    "display(widgets.HBox([countries_select4, leagues_select4]),apply_button4, output4)\n",
    "\n",
    "# Register the apply button click event\n",
    "apply_button4.on_click(apply_button_clicked4)"
   ]
  },
  {
   "cell_type": "markdown",
   "id": "3c3574a0-70bc-4f97-87c3-a6949a7c9382",
   "metadata": {},
   "source": [
    "# Analysis of the Home Team Wins and Losses/Draws counts vs Home Actual Percentage data (< 50%, 40%, and 30% ) and Home Odds in the range 1.55 and 1.79 and Home Avg Rating <= Away Avg Rating"
   ]
  },
  {
   "cell_type": "code",
   "execution_count": 13,
   "id": "2859253a-e6a9-450b-9864-78f10a79a103",
   "metadata": {},
   "outputs": [
    {
     "data": {
      "application/vnd.jupyter.widget-view+json": {
       "model_id": "26adeb5342f646a5aaf476d853c635ef",
       "version_major": 2,
       "version_minor": 0
      },
      "text/plain": [
       "HBox(children=(SelectMultiple(description='Countries:', options=('All', 'England', 'Spain', 'Turkey', 'Germany…"
      ]
     },
     "metadata": {},
     "output_type": "display_data"
    },
    {
     "data": {
      "application/vnd.jupyter.widget-view+json": {
       "model_id": "fe0a6c3f708d4a04b68493ff499d9ca4",
       "version_major": 2,
       "version_minor": 0
      },
      "text/plain": [
       "Button(description='Apply', style=ButtonStyle())"
      ]
     },
     "metadata": {},
     "output_type": "display_data"
    },
    {
     "data": {
      "application/vnd.jupyter.widget-view+json": {
       "model_id": "2dd3bf345aa84a8295ad8fbcabd0b287",
       "version_major": 2,
       "version_minor": 0
      },
      "text/plain": [
       "Output()"
      ]
     },
     "metadata": {},
     "output_type": "display_data"
    }
   ],
   "source": [
    "# Create the country and league selection widgets\n",
    "countries_select5 = widgets.SelectMultiple(options=np.append('All', unique_countries), description='Countries:', rows=5)\n",
    "leagues_select5 = widgets.SelectMultiple(options=[], description='Leagues:', rows=5)\n",
    "apply_button5 = widgets.Button(description='Apply')\n",
    "output5 = widgets.Output()\n",
    "\n",
    "# Define the update leagues function\n",
    "def update_leagues5(*args):\n",
    "    selected_countries = countries_select5.value\n",
    "    if 'All' in selected_countries:\n",
    "        leagues_select5.options = np.append('All', df_data['tour_name'].unique())\n",
    "    else:\n",
    "        leagues_select5.options = np.append('All', df_data[df_data['country'].isin(selected_countries)]['tour_name'].unique())\n",
    "\n",
    "# Register the update leagues function to be called when countries are selected\n",
    "countries_select5.observe(update_leagues5, 'value')\n",
    "\n",
    "# Create the plot function\n",
    "def update_chart5(country, leagues):\n",
    "    if 'All' in country:\n",
    "        filtered_data = df_data.copy()\n",
    "    else:\n",
    "        filtered_data = df_data[df_data['country'].isin(country)]\n",
    "\n",
    "    if 'All' in leagues:\n",
    "        filtered_data = filtered_data.copy()\n",
    "    else:\n",
    "        filtered_data = filtered_data[filtered_data['tour_name'].isin(leagues)]\n",
    "\n",
    "    # Define the win_odds ranges\n",
    "    win_odds_range = (1.55, 1.79)\n",
    "    \n",
    "    # Define the home_actual threshold values\n",
    "    home_actual_thresholds = [(0, 30), (30, 40), (40, 50)]\n",
    "\n",
    "    wins_counts = []\n",
    "    losses_draws_counts = []\n",
    "    match_count = 0\n",
    "\n",
    "    # Iterate over the home_actual thresholds\n",
    "    for i, home_actual_threshold in enumerate(home_actual_thresholds):\n",
    "    \n",
    "        # Filter the data based on the win_odds range and home_actual threshold\n",
    "        display_data = filtered_data[(filtered_data['home_odds'] >= win_odds_range[0]) &\n",
    "                                (filtered_data['home_odds'] < win_odds_range[1]) &\n",
    "                                (filtered_data['home_actual'] >= home_actual_threshold[0]) &\n",
    "                                (filtered_data['home_actual'] < home_actual_threshold[1]) &\n",
    "                                (filtered_data['home_avg_rating'] <= filtered_data['away_avg_rating'])]\n",
    "    \n",
    "        # Count the number of wins and losses/draws in the filtered data\n",
    "        wins_count = display_data[display_data['home_team_win'] == 1]['home_team_win'].count()\n",
    "        losses_draws_count = display_data[display_data['home_team_win'] == 0]['home_team_win'].count()\n",
    "    \n",
    "        # Append the counts to the respective lists\n",
    "        wins_counts.append(wins_count)\n",
    "        losses_draws_counts.append(losses_draws_count)\n",
    "        match_count = match_count + wins_count + losses_draws_count\n",
    "\n",
    "    # Create a new figure\n",
    "    plt.figure()\n",
    "\n",
    "    # Plot the stacked bar chart for the current threshold\n",
    "    plt.bar(range(len(home_actual_thresholds)), wins_counts, label='Wins', alpha=0.7)\n",
    "    plt.bar(range(len(home_actual_thresholds)), losses_draws_counts, bottom=wins_counts, label='Losses/Draws', alpha=0.7)\n",
    "\n",
    "    # Display the counts within the stacked bar\n",
    "    for j, (wins, losses_draws) in enumerate(zip(wins_counts, losses_draws_counts)):\n",
    "        plt.text(j, wins / 2, str(wins), ha='center', va='center')\n",
    "        plt.text(j, wins + losses_draws / 2, str(losses_draws), ha='center', va='center')\n",
    "\n",
    "    plt.xlabel('Home Actual Threshold')\n",
    "    plt.ylabel('Counts')\n",
    "    plt.title(f'Counts of Wins and Losses/Draws\\nWin Odds Range ({win_odds_range[0]} - {win_odds_range[1]})\\nTotal Matches: {match_count}')\n",
    "    plt.xticks(range(len(home_actual_thresholds)),[f'{home_actual_threshold[0]}% - {home_actual_threshold[1]}%' for home_actual_threshold in home_actual_thresholds])\n",
    "\n",
    "    # Add a legend to the last subplot\n",
    "    plt.legend()\n",
    "    \n",
    "    # Show the plot\n",
    "    plt.show()\n",
    "\n",
    "    # Close the figure to prevent multiple plots from being displayed\n",
    "    plt.close()\n",
    "\n",
    "# Define the apply button click event\n",
    "def apply_button_clicked5(b):\n",
    "    selected_countries = countries_select5.value\n",
    "    selected_leagues = leagues_select5.value\n",
    "    with output5:\n",
    "        clear_output(wait=True)\n",
    "        update_chart5(selected_countries, selected_leagues)\n",
    "\n",
    "# Display the widgets\n",
    "display(widgets.HBox([countries_select5, leagues_select5]),apply_button5, output5)\n",
    "\n",
    "# Register the apply button click event\n",
    "apply_button5.on_click(apply_button_clicked5)"
   ]
  }
 ],
 "metadata": {
  "kernelspec": {
   "display_name": "Python 3 (ipykernel)",
   "language": "python",
   "name": "python3"
  },
  "language_info": {
   "codemirror_mode": {
    "name": "ipython",
    "version": 3
   },
   "file_extension": ".py",
   "mimetype": "text/x-python",
   "name": "python",
   "nbconvert_exporter": "python",
   "pygments_lexer": "ipython3",
   "version": "3.11.2"
  }
 },
 "nbformat": 4,
 "nbformat_minor": 5
}
